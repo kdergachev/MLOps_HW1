{
 "cells": [
  {
   "cell_type": "code",
   "execution_count": 143,
   "id": "d42a86db",
   "metadata": {},
   "outputs": [],
   "source": [
    "import psycopg2\n",
    "conn = psycopg2.connect(dbname='MLOps', user='postgres', \n",
    "                        password='user', host='localhost')\n",
    "cursor = conn.cursor()"
   ]
  },
  {
   "cell_type": "code",
   "execution_count": 144,
   "id": "c94dadca",
   "metadata": {},
   "outputs": [],
   "source": [
    "cursor.execute(\"\"\"SELECT * FROM model_store\"\"\")"
   ]
  },
  {
   "cell_type": "code",
   "execution_count": 134,
   "id": "fc9999cc",
   "metadata": {},
   "outputs": [],
   "source": [
    "tt = psycopg2.Binary(bytes('0111000011110100', encoding='utf-8'))"
   ]
  },
  {
   "cell_type": "code",
   "execution_count": 111,
   "id": "384a2c98",
   "metadata": {},
   "outputs": [
    {
     "data": {
      "text/plain": [
       "str"
      ]
     },
     "execution_count": 111,
     "metadata": {},
     "output_type": "execute_result"
    }
   ],
   "source": [
    "type('sdfasfsf (%s)')"
   ]
  },
  {
   "cell_type": "code",
   "execution_count": 135,
   "id": "1bdbd3ee",
   "metadata": {},
   "outputs": [],
   "source": [
    "cursor.execute(f\"\"\"INSERT INTO model_store (model_bytes, date, model_type) \n",
    "                  VALUES ({tt}, NOW(), 'linreg')\"\"\")\n",
    "conn.commit()"
   ]
  },
  {
   "cell_type": "code",
   "execution_count": 145,
   "id": "c913dd47",
   "metadata": {},
   "outputs": [],
   "source": [
    "a = cursor.fetchall()"
   ]
  },
  {
   "cell_type": "code",
   "execution_count": 154,
   "id": "d0e9bc5c",
   "metadata": {},
   "outputs": [
    {
     "data": {
      "text/plain": [
       "b'0111000011110100'"
      ]
     },
     "execution_count": 154,
     "metadata": {},
     "output_type": "execute_result"
    }
   ],
   "source": [
    "a[0][1].tobytes()"
   ]
  },
  {
   "cell_type": "code",
   "execution_count": 155,
   "id": "26aa92cc",
   "metadata": {},
   "outputs": [],
   "source": [
    "cursor.close()\n",
    "conn.close()"
   ]
  },
  {
   "cell_type": "code",
   "execution_count": 20,
   "id": "f1acd777",
   "metadata": {},
   "outputs": [
    {
     "data": {
      "text/plain": [
       "<cursor object at 0x00000274C173EC80; closed: -1>"
      ]
     },
     "execution_count": 20,
     "metadata": {},
     "output_type": "execute_result"
    }
   ],
   "source": [
    "cursor"
   ]
  },
  {
   "cell_type": "code",
   "execution_count": 21,
   "id": "aaf19a24",
   "metadata": {},
   "outputs": [
    {
     "data": {
      "text/plain": [
       "<connection object at 0x00000274BF979040; dsn: 'user=postgres password=xxx dbname=MLOps host=localhost', closed: 1>"
      ]
     },
     "execution_count": 21,
     "metadata": {},
     "output_type": "execute_result"
    }
   ],
   "source": [
    "conn"
   ]
  },
  {
   "cell_type": "code",
   "execution_count": null,
   "id": "d54070b1",
   "metadata": {},
   "outputs": [],
   "source": []
  }
 ],
 "metadata": {
  "kernelspec": {
   "display_name": "Python 3 (ipykernel)",
   "language": "python",
   "name": "python3"
  },
  "language_info": {
   "codemirror_mode": {
    "name": "ipython",
    "version": 3
   },
   "file_extension": ".py",
   "mimetype": "text/x-python",
   "name": "python",
   "nbconvert_exporter": "python",
   "pygments_lexer": "ipython3",
   "version": "3.9.12"
  }
 },
 "nbformat": 4,
 "nbformat_minor": 5
}
