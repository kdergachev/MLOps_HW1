{
 "cells": [
  {
   "cell_type": "code",
   "execution_count": 51,
   "id": "620a04f7",
   "metadata": {},
   "outputs": [],
   "source": [
    "import numpy as np\n",
    "import pandas as pd\n",
    "from sklearn import datasets as ds\n",
    "from sklearn.linear_model import TweedieRegressor, LinearRegression\n",
    "from sklearn.tree import DecisionTreeRegressor\n",
    "import os\n",
    "import json\n",
    "import pickle"
   ]
  },
  {
   "cell_type": "code",
   "execution_count": 10,
   "id": "49dc6f8c",
   "metadata": {},
   "outputs": [],
   "source": [
    "X = ds.load_boston().data\n",
    "y = ds.load_boston().target"
   ]
  },
  {
   "cell_type": "code",
   "execution_count": 24,
   "id": "7842cc53",
   "metadata": {},
   "outputs": [],
   "source": [
    "js = json.dumps({\"model\": \"linreg\", \"X\": X.tolist(), \"Y\": y.tolist()})\n",
    "\n",
    "with open(\"test1.json\", \"w\") as outfile:\n",
    "    outfile.write(js)"
   ]
  },
  {
   "cell_type": "code",
   "execution_count": 25,
   "id": "2ec7e3db",
   "metadata": {},
   "outputs": [],
   "source": [
    "js = json.dumps({\"model\": \"tree\", \"X\": X.tolist(), \"Y\": y.tolist(), \"hyperparams\":{\"max_depth\": 6, \"min_samples_split\": 5}})\n",
    "\n",
    "with open(\"test2.json\", \"w\") as outfile:\n",
    "    outfile.write(js)"
   ]
  },
  {
   "cell_type": "code",
   "execution_count": 29,
   "id": "98e9d479",
   "metadata": {},
   "outputs": [],
   "source": [
    "js = json.dumps({\"X\": X[:20].tolist(), \"action\": \"predict\"})\n",
    "\n",
    "with open(\"test3.json\", \"w\") as outfile:\n",
    "    outfile.write(js)"
   ]
  },
  {
   "cell_type": "code",
   "execution_count": 59,
   "id": "16fff809",
   "metadata": {},
   "outputs": [],
   "source": [
    "js = json.dumps({\"model\": {\"id\": 1}, \"X\": X[:100].tolist(), \"Y\": y[:100].tolist()})\n",
    "\n",
    "with open(\"test4.json\", \"w\") as outfile:\n",
    "    outfile.write(js)"
   ]
  },
  {
   "cell_type": "markdown",
   "id": "a09e2707",
   "metadata": {},
   "source": [
    "## Тесты"
   ]
  },
  {
   "cell_type": "code",
   "execution_count": 44,
   "id": "08270912",
   "metadata": {},
   "outputs": [
    {
     "name": "stderr",
     "output_type": "stream",
     "text": [
      "C:\\Users\\Kirill\\anaconda3\\lib\\site-packages\\sklearn\\base.py:329: UserWarning: Trying to unpickle estimator LinearRegression from version 1.1.2 when using version 1.0.2. This might lead to breaking code or invalid results. Use at your own risk. For more info please refer to:\n",
      "https://scikit-learn.org/stable/modules/model_persistence.html#security-maintainability-limitations\n",
      "  warnings.warn(\n"
     ]
    }
   ],
   "source": [
    "with open(f\"../models/{os.listdir('../models')[0]}\", 'rb') as handle:\n",
    "            model = pickle.load(handle)"
   ]
  },
  {
   "cell_type": "code",
   "execution_count": 48,
   "id": "d9d24331",
   "metadata": {},
   "outputs": [
    {
     "data": {
      "text/plain": [
       "array([30.00384338, 25.02556238, 30.56759672, 28.60703649, 27.94352423,\n",
       "       25.25628446, 23.00180827, 19.53598843, 11.52363685, 18.92026211,\n",
       "       18.99949651, 21.58679568, 20.90652153, 19.55290281, 19.28348205,\n",
       "       19.29748321, 20.52750979, 16.91140135, 16.17801106, 18.40613603])"
      ]
     },
     "execution_count": 48,
     "metadata": {},
     "output_type": "execute_result"
    }
   ],
   "source": [
    "LinearRegression().fit(X, y).predict(X[:20])"
   ]
  },
  {
   "cell_type": "code",
   "execution_count": 49,
   "id": "e565b5bc",
   "metadata": {},
   "outputs": [
    {
     "data": {
      "text/plain": [
       "array([30.00384338, 25.02556238, 30.56759672, 28.60703649, 27.94352423,\n",
       "       25.25628446, 23.00180827, 19.53598843, 11.52363685, 18.92026211,\n",
       "       18.99949651, 21.58679568, 20.90652153, 19.55290281, 19.28348205,\n",
       "       19.29748321, 20.52750979, 16.91140135, 16.17801106, 18.40613603])"
      ]
     },
     "execution_count": 49,
     "metadata": {},
     "output_type": "execute_result"
    }
   ],
   "source": [
    "model.predict(X[:20])"
   ]
  },
  {
   "cell_type": "code",
   "execution_count": 50,
   "id": "985e880b",
   "metadata": {},
   "outputs": [
    {
     "name": "stderr",
     "output_type": "stream",
     "text": [
      "C:\\Users\\Kirill\\anaconda3\\lib\\site-packages\\sklearn\\base.py:329: UserWarning: Trying to unpickle estimator DecisionTreeRegressor from version 1.1.2 when using version 1.0.2. This might lead to breaking code or invalid results. Use at your own risk. For more info please refer to:\n",
      "https://scikit-learn.org/stable/modules/model_persistence.html#security-maintainability-limitations\n",
      "  warnings.warn(\n"
     ]
    }
   ],
   "source": [
    "with open(f\"../models/{os.listdir('../models')[1]}\", 'rb') as handle:\n",
    "            model = pickle.load(handle)"
   ]
  },
  {
   "cell_type": "code",
   "execution_count": 53,
   "id": "5968f88d",
   "metadata": {},
   "outputs": [
    {
     "data": {
      "text/plain": [
       "array([24. , 21.6, 34.7, 33.4, 36.2, 28.7, 22.9, 27.1, 16.5, 18.9, 15. ,\n",
       "       18.9, 21.7, 20.4, 18.2, 19.9, 23.1, 17.5, 20.2, 18.2])"
      ]
     },
     "execution_count": 53,
     "metadata": {},
     "output_type": "execute_result"
    }
   ],
   "source": [
    "DecisionTreeRegressor().fit(X, y).predict(X[:20])"
   ]
  },
  {
   "cell_type": "code",
   "execution_count": 54,
   "id": "a8dc014e",
   "metadata": {},
   "outputs": [
    {
     "data": {
      "text/plain": [
       "array([23.46666667, 20.76598639, 34.544     , 34.544     , 34.544     ,\n",
       "       28.7       , 20.76598639, 22.1       , 16.9125    , 16.9125    ,\n",
       "       16.9125    , 20.76598639, 22.96666667, 20.76598639, 20.76598639,\n",
       "       20.76598639, 23.85714286, 19.40833333, 20.76598639, 20.76598639])"
      ]
     },
     "execution_count": 54,
     "metadata": {},
     "output_type": "execute_result"
    }
   ],
   "source": [
    "DecisionTreeRegressor(max_depth=6, min_samples_split=5).fit(X, y).predict(X[:20])"
   ]
  },
  {
   "cell_type": "code",
   "execution_count": 55,
   "id": "ff2af095",
   "metadata": {},
   "outputs": [
    {
     "data": {
      "text/plain": [
       "array([23.46666667, 20.76598639, 34.544     , 34.544     , 34.544     ,\n",
       "       28.7       , 20.76598639, 22.1       , 16.9125    , 16.9125    ,\n",
       "       16.9125    , 20.76598639, 22.96666667, 20.76598639, 20.76598639,\n",
       "       20.76598639, 23.85714286, 19.40833333, 20.76598639, 20.76598639])"
      ]
     },
     "execution_count": 55,
     "metadata": {},
     "output_type": "execute_result"
    }
   ],
   "source": [
    "model.predict(X[:20])"
   ]
  },
  {
   "cell_type": "code",
   "execution_count": 60,
   "id": "d4edbb9b",
   "metadata": {},
   "outputs": [
    {
     "data": {
      "text/plain": [
       "array([24.25      , 21.1       , 33.7       , 33.7       , 35.5       ,\n",
       "       29.3       , 23.18888889, 27.1       , 16.25      , 18.84285714,\n",
       "       15.26666667, 18.84285714, 20.85      , 20.5       , 19.4       ,\n",
       "       20.5       , 22.85      , 17.575     , 19.7       , 18.55      ])"
      ]
     },
     "execution_count": 60,
     "metadata": {},
     "output_type": "execute_result"
    }
   ],
   "source": [
    "DecisionTreeRegressor(max_depth=6, min_samples_split=5).fit(X[:100], y[:100]).predict(X[:20])"
   ]
  },
  {
   "cell_type": "code",
   "execution_count": 61,
   "id": "4a616e49",
   "metadata": {},
   "outputs": [
    {
     "name": "stderr",
     "output_type": "stream",
     "text": [
      "C:\\Users\\Kirill\\anaconda3\\lib\\site-packages\\sklearn\\base.py:329: UserWarning: Trying to unpickle estimator DecisionTreeRegressor from version 1.1.2 when using version 1.0.2. This might lead to breaking code or invalid results. Use at your own risk. For more info please refer to:\n",
      "https://scikit-learn.org/stable/modules/model_persistence.html#security-maintainability-limitations\n",
      "  warnings.warn(\n"
     ]
    },
    {
     "data": {
      "text/plain": [
       "array([24.25      , 21.1       , 33.7       , 33.7       , 35.5       ,\n",
       "       29.3       , 23.18888889, 27.1       , 16.25      , 18.84285714,\n",
       "       15.26666667, 18.84285714, 20.85      , 20.5       , 19.4       ,\n",
       "       20.5       , 22.85      , 17.575     , 19.7       , 18.55      ])"
      ]
     },
     "execution_count": 61,
     "metadata": {},
     "output_type": "execute_result"
    }
   ],
   "source": [
    "with open(f\"../models/{os.listdir('../models')[1]}\", 'rb') as handle:\n",
    "            model = pickle.load(handle)\n",
    "model.predict(X[:20])"
   ]
  },
  {
   "cell_type": "code",
   "execution_count": null,
   "id": "1698d34c",
   "metadata": {},
   "outputs": [],
   "source": []
  }
 ],
 "metadata": {
  "kernelspec": {
   "display_name": "Python 3 (ipykernel)",
   "language": "python",
   "name": "python3"
  },
  "language_info": {
   "codemirror_mode": {
    "name": "ipython",
    "version": 3
   },
   "file_extension": ".py",
   "mimetype": "text/x-python",
   "name": "python",
   "nbconvert_exporter": "python",
   "pygments_lexer": "ipython3",
   "version": "3.9.12"
  }
 },
 "nbformat": 4,
 "nbformat_minor": 5
}
