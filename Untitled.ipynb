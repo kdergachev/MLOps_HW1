{
 "cells": [
  {
   "cell_type": "code",
   "execution_count": 43,
   "id": "d42a86db",
   "metadata": {},
   "outputs": [],
   "source": [
    "import psycopg2\n",
    "conn = psycopg2.connect(dbname='MLOps', user='postgres', \n",
    "                        password='user', host='localhost')\n",
    "cursor = conn.cursor()"
   ]
  },
  {
   "cell_type": "code",
   "execution_count": 51,
   "id": "9321bc74",
   "metadata": {},
   "outputs": [],
   "source": [
    "def db_decorator(queryf):\n",
    "    \n",
    "    def df_wrapper(*args, **kwargs):\n",
    "        \n",
    "        conn = psycopg2.connect(dbname='MLOps', user='postgres', \n",
    "                        password='user', host='localhost')\n",
    "        cursor = conn.cursor()\n",
    "        \n",
    "        queryf(conn, cursor, *args, **kwargs)\n",
    "        \n",
    "        cursor.close()\n",
    "        conn.close()\n",
    "    \n",
    "    return df_wrapper\n",
    "\n",
    "\n",
    "@db_decorator\n",
    "def db_add_model(conn, cursor, model, modelname, idx=None):\n",
    "    \n",
    "    model = psycopg2.Binary(pickle.dumps(model))\n",
    "    \n",
    "    if idx is not None:\n",
    "        drop_row_by_id(conn, cursor, idx)\n",
    "    \n",
    "    q = f\"\"\"INSERT INTO model_store (model_bytes, date, model_type) \n",
    "            VALUES ({model}, NOW(), '{modelname}')\"\"\"\n",
    "    \n",
    "    cursor.execute(q)\n",
    "    conn.commit()\n",
    "\n",
    "\n",
    "def db_drop_row_by_id(conn, cursor, idx):\n",
    "    \n",
    "    q = f\"\"\"DELETE FROM model_store\n",
    "            WHERE id = {idx}\"\"\"\n",
    "    cursor.execute(q)\n",
    "    conn.commit()\n",
    "\n",
    "\n",
    "@db_decorator\n",
    "def db_pure_delete(conn, cursor, idx):\n",
    "    db_drop_row_by_id(conn, cursor, idx)\n",
    "\n",
    "\n",
    "@db_decorator\n",
    "def db_fetch_model(conn, cursor, idx):\n",
    "    q = f\"\"\"SELECT model_bytes FROM model_store\n",
    "            WHERE id = {idx}\"\"\"\n",
    "    print(q)\n",
    "    print(cursor.execute(q).fetchall())\n",
    "    mod_bin = cursor.execute(q).fetchall()[0][0].tobytes() # cursor -> list -> memory -> bytes\n",
    "    model = pickle.loads(mod_bin)\n",
    "    return model"
   ]
  },
  {
   "cell_type": "code",
   "execution_count": 52,
   "id": "ea988e57",
   "metadata": {},
   "outputs": [
    {
     "name": "stdout",
     "output_type": "stream",
     "text": [
      "SELECT model_bytes FROM model_store\n",
      "            WHERE id = 2\n"
     ]
    },
    {
     "ename": "AttributeError",
     "evalue": "'NoneType' object has no attribute 'fetchall'",
     "output_type": "error",
     "traceback": [
      "\u001b[1;31m---------------------------------------------------------------------------\u001b[0m",
      "\u001b[1;31mAttributeError\u001b[0m                            Traceback (most recent call last)",
      "Input \u001b[1;32mIn [52]\u001b[0m, in \u001b[0;36m<cell line: 1>\u001b[1;34m()\u001b[0m\n\u001b[1;32m----> 1\u001b[0m \u001b[43mdb_fetch_model\u001b[49m\u001b[43m(\u001b[49m\u001b[38;5;241;43m2\u001b[39;49m\u001b[43m)\u001b[49m\n",
      "Input \u001b[1;32mIn [51]\u001b[0m, in \u001b[0;36mdb_decorator.<locals>.df_wrapper\u001b[1;34m(*args, **kwargs)\u001b[0m\n\u001b[0;32m      5\u001b[0m conn \u001b[38;5;241m=\u001b[39m psycopg2\u001b[38;5;241m.\u001b[39mconnect(dbname\u001b[38;5;241m=\u001b[39m\u001b[38;5;124m'\u001b[39m\u001b[38;5;124mMLOps\u001b[39m\u001b[38;5;124m'\u001b[39m, user\u001b[38;5;241m=\u001b[39m\u001b[38;5;124m'\u001b[39m\u001b[38;5;124mpostgres\u001b[39m\u001b[38;5;124m'\u001b[39m, \n\u001b[0;32m      6\u001b[0m                 password\u001b[38;5;241m=\u001b[39m\u001b[38;5;124m'\u001b[39m\u001b[38;5;124muser\u001b[39m\u001b[38;5;124m'\u001b[39m, host\u001b[38;5;241m=\u001b[39m\u001b[38;5;124m'\u001b[39m\u001b[38;5;124mlocalhost\u001b[39m\u001b[38;5;124m'\u001b[39m)\n\u001b[0;32m      7\u001b[0m cursor \u001b[38;5;241m=\u001b[39m conn\u001b[38;5;241m.\u001b[39mcursor()\n\u001b[1;32m----> 9\u001b[0m queryf(conn, cursor, \u001b[38;5;241m*\u001b[39margs, \u001b[38;5;241m*\u001b[39m\u001b[38;5;241m*\u001b[39mkwargs)\n\u001b[0;32m     11\u001b[0m cursor\u001b[38;5;241m.\u001b[39mclose()\n\u001b[0;32m     12\u001b[0m conn\u001b[38;5;241m.\u001b[39mclose()\n",
      "Input \u001b[1;32mIn [51]\u001b[0m, in \u001b[0;36mdb_fetch_model\u001b[1;34m(conn, cursor, idx)\u001b[0m\n\u001b[0;32m     47\u001b[0m q \u001b[38;5;241m=\u001b[39m \u001b[38;5;124mf\u001b[39m\u001b[38;5;124m\"\"\"\u001b[39m\u001b[38;5;124mSELECT model_bytes FROM model_store\u001b[39m\n\u001b[0;32m     48\u001b[0m \u001b[38;5;124m        WHERE id = \u001b[39m\u001b[38;5;132;01m{\u001b[39;00midx\u001b[38;5;132;01m}\u001b[39;00m\u001b[38;5;124m\"\"\"\u001b[39m\n\u001b[0;32m     49\u001b[0m \u001b[38;5;28mprint\u001b[39m(q)\n\u001b[1;32m---> 50\u001b[0m \u001b[38;5;28mprint\u001b[39m(\u001b[43mcursor\u001b[49m\u001b[38;5;241;43m.\u001b[39;49m\u001b[43mexecute\u001b[49m\u001b[43m(\u001b[49m\u001b[43mq\u001b[49m\u001b[43m)\u001b[49m\u001b[38;5;241;43m.\u001b[39;49m\u001b[43mfetchall\u001b[49m())\n\u001b[0;32m     51\u001b[0m mod_bin \u001b[38;5;241m=\u001b[39m cursor\u001b[38;5;241m.\u001b[39mexecute(q)\u001b[38;5;241m.\u001b[39mfetchall()[\u001b[38;5;241m0\u001b[39m][\u001b[38;5;241m0\u001b[39m]\u001b[38;5;241m.\u001b[39mtobytes() \u001b[38;5;66;03m# cursor -> list -> memory -> bytes\u001b[39;00m\n\u001b[0;32m     52\u001b[0m model \u001b[38;5;241m=\u001b[39m pickle\u001b[38;5;241m.\u001b[39mloads(mod_bin)\n",
      "\u001b[1;31mAttributeError\u001b[0m: 'NoneType' object has no attribute 'fetchall'"
     ]
    }
   ],
   "source": [
    "db_fetch_model(2)"
   ]
  },
  {
   "cell_type": "code",
   "execution_count": 53,
   "id": "9d5a72ea",
   "metadata": {},
   "outputs": [],
   "source": [
    "def db_wrapper(queryf):\n",
    "    \n",
    "    def true_wrapper(*args, **kwargs):\n",
    "        \n",
    "        conn = psycopg2.connect(dbname='MLOps', user='postgres', \n",
    "                        password='user', host='localhost')\n",
    "        cursor = conn.cursor()\n",
    "        \n",
    "        queryf(conn, cursor, *args, **kwargs)\n",
    "        \n",
    "        cursor.close()\n",
    "        conn.close()\n",
    "    \n",
    "    return true_wrapper\n",
    "    \n",
    "    "
   ]
  },
  {
   "cell_type": "code",
   "execution_count": 54,
   "id": "f6beb6e6",
   "metadata": {},
   "outputs": [],
   "source": [
    "@db_wrapper\n",
    "def a(conn, cursor, b):\n",
    "    cursor.execute(b)\n",
    "    print(cursor.fetchall())"
   ]
  },
  {
   "cell_type": "code",
   "execution_count": 56,
   "id": "f00beeb8",
   "metadata": {},
   "outputs": [
    {
     "name": "stdout",
     "output_type": "stream",
     "text": [
      "[(<memory at 0x000001BF1C4C3F40>,)]\n"
     ]
    }
   ],
   "source": [
    "a(\"\"\"SELECT model_bytes FROM model_store\n",
    "            WHERE id = 2\"\"\")"
   ]
  },
  {
   "cell_type": "code",
   "execution_count": 29,
   "id": "c94dadca",
   "metadata": {},
   "outputs": [],
   "source": [
    "cursor.execute(\"\"\"SELECT model_bytes FROM model_store\"\"\")"
   ]
  },
  {
   "cell_type": "code",
   "execution_count": 21,
   "id": "fc9999cc",
   "metadata": {},
   "outputs": [],
   "source": [
    "tt = psycopg2.Binary(bytes('0111000011110100', encoding='utf-8'))"
   ]
  },
  {
   "cell_type": "code",
   "execution_count": 111,
   "id": "384a2c98",
   "metadata": {},
   "outputs": [
    {
     "data": {
      "text/plain": [
       "str"
      ]
     },
     "execution_count": 111,
     "metadata": {},
     "output_type": "execute_result"
    }
   ],
   "source": [
    "type('sdfasfsf (%s)')"
   ]
  },
  {
   "cell_type": "code",
   "execution_count": 22,
   "id": "1bdbd3ee",
   "metadata": {},
   "outputs": [],
   "source": [
    "cursor.execute(f\"\"\"INSERT INTO model_store (model_bytes, date, model_type) \n",
    "                  VALUES ({tt}, NOW(), 'linreg')\"\"\")\n",
    "conn.commit()"
   ]
  },
  {
   "cell_type": "code",
   "execution_count": 18,
   "id": "76ab8858",
   "metadata": {},
   "outputs": [],
   "source": [
    "cursor.execute(f\"\"\"DELETE FROM model_store\n",
    "                   WHERE id = 3\"\"\")\n",
    "conn.commit()"
   ]
  },
  {
   "cell_type": "code",
   "execution_count": 30,
   "id": "c913dd47",
   "metadata": {},
   "outputs": [],
   "source": [
    "a = cursor.fetchall()"
   ]
  },
  {
   "cell_type": "code",
   "execution_count": 36,
   "id": "d0e9bc5c",
   "metadata": {},
   "outputs": [
    {
     "data": {
      "text/plain": [
       "<memory at 0x000001BF1C4C3E80>"
      ]
     },
     "execution_count": 36,
     "metadata": {},
     "output_type": "execute_result"
    }
   ],
   "source": [
    "a[0][0]"
   ]
  },
  {
   "cell_type": "code",
   "execution_count": 57,
   "id": "26aa92cc",
   "metadata": {},
   "outputs": [],
   "source": [
    "cursor.close()\n",
    "conn.close()"
   ]
  },
  {
   "cell_type": "code",
   "execution_count": 20,
   "id": "f1acd777",
   "metadata": {},
   "outputs": [
    {
     "data": {
      "text/plain": [
       "<cursor object at 0x00000274C173EC80; closed: -1>"
      ]
     },
     "execution_count": 20,
     "metadata": {},
     "output_type": "execute_result"
    }
   ],
   "source": [
    "cursor"
   ]
  },
  {
   "cell_type": "code",
   "execution_count": 21,
   "id": "aaf19a24",
   "metadata": {},
   "outputs": [
    {
     "data": {
      "text/plain": [
       "<connection object at 0x00000274BF979040; dsn: 'user=postgres password=xxx dbname=MLOps host=localhost', closed: 1>"
      ]
     },
     "execution_count": 21,
     "metadata": {},
     "output_type": "execute_result"
    }
   ],
   "source": [
    "conn"
   ]
  },
  {
   "cell_type": "code",
   "execution_count": null,
   "id": "d54070b1",
   "metadata": {},
   "outputs": [],
   "source": []
  }
 ],
 "metadata": {
  "kernelspec": {
   "display_name": "Python 3 (ipykernel)",
   "language": "python",
   "name": "python3"
  },
  "language_info": {
   "codemirror_mode": {
    "name": "ipython",
    "version": 3
   },
   "file_extension": ".py",
   "mimetype": "text/x-python",
   "name": "python",
   "nbconvert_exporter": "python",
   "pygments_lexer": "ipython3",
   "version": "3.9.12"
  }
 },
 "nbformat": 4,
 "nbformat_minor": 5
}
